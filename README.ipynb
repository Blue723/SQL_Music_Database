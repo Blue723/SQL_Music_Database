{
 "cells": [
  {
   "cell_type": "markdown",
   "id": "c3c9da9a",
   "metadata": {},
   "source": [
    "# README"
   ]
  },
  {
   "cell_type": "markdown",
   "id": "442b6bdd",
   "metadata": {},
   "source": [
    "This project aims to perform qualitative and quantitative analysis and explore the database called chinook which has tables on information about music. I will clean, aggregate, transform queries in SQLite, the export the queries, import the queries into jupyter notebook in the file SQL_EDA.ipynb so I can visualize the data analysis. "
   ]
  },
  {
   "cell_type": "markdown",
   "id": "851b82b5",
   "metadata": {},
   "source": [
    " "
   ]
  }
 ],
 "metadata": {
  "kernelspec": {
   "display_name": "Python 3",
   "language": "python",
   "name": "python3"
  },
  "language_info": {
   "codemirror_mode": {
    "name": "ipython",
    "version": 3
   },
   "file_extension": ".py",
   "mimetype": "text/x-python",
   "name": "python",
   "nbconvert_exporter": "python",
   "pygments_lexer": "ipython3",
   "version": "3.8.8"
  }
 },
 "nbformat": 4,
 "nbformat_minor": 5
}
